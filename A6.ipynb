{
 "cells": [
  {
   "cell_type": "markdown",
   "id": "bd6ec55e",
   "metadata": {},
   "source": [
    "# 📊 SICD Metadata Exploratory Data Analysis (EDA) Notebook - Extended Version"
   ]
  },
  {
   "cell_type": "markdown",
   "id": "5f746e62",
   "metadata": {},
   "source": [
    "This notebook provides an extended EDA workflow for Synthetic Aperture Radar (SAR) imagery metadata extracted from SICD XML files.\n",
    "\n",
    "### New Features in This Version:\n",
    "- Validates directory input\n",
    "- Adds filtering by radar mode\n",
    "- Saves charts and CSV outputs\n",
    "- Shows top-k collector stats\n",
    "- Supports bounding-box AOI filtering\n",
    "\n",
    "---"
   ]
  },
  {
   "cell_type": "markdown",
   "id": "3e9e8655",
   "metadata": {},
   "source": [
    "## 1. Load and Parse SICD Metadata From a Directory"
   ]
  },
  {
   "cell_type": "code",
   "execution_count": null,
   "id": "9ee71dec",
   "metadata": {},
   "outputs": [],
   "source": [
    "from A2 import EnhancedSARMetadataExtractor\n",
    "\n",
    "directory_path = input(\"📂 Enter path to directory with SICD XML files: \")\n",
    "metadata_extractor = EnhancedSARMetadataExtractor(directory_path)\n",
    "metadata = metadata_extractor.parse_sicd_metadata()\n",
    "\n",
    "print(f\"✅ Parsed {len(metadata)} SICD metadata entries\")"
   ]
  },
  {
   "cell_type": "markdown",
   "id": "fa53adea",
   "metadata": {},
   "source": [
    "## 2. Export and Summarize Metadata"
   ]
  },
  {
   "cell_type": "code",
   "execution_count": null,
   "id": "fdded320",
   "metadata": {},
   "outputs": [],
   "source": [
    "metadata_extractor.save_metadata_csv(\"output_sicd_metadata.csv\")\n",
    "summary = metadata_extractor.get_summary_statistics()\n",
    "\n",
    "import yaml\n",
    "print(\"📌 Summary Statistics\")\n",
    "print(yaml.dump(summary, default_flow_style=False))"
   ]
  },
  {
   "cell_type": "markdown",
   "id": "dba74248",
   "metadata": {},
   "source": [
    "## 3. Initialize Metadata Analyzer"
   ]
  },
  {
   "cell_type": "code",
   "execution_count": null,
   "id": "22037f61",
   "metadata": {},
   "outputs": [],
   "source": [
    "from A1 import SARMetadataAnalyzer\n",
    "\n",
    "sar_metadata_analyzer = SARMetadataAnalyzer(directory_path, metadata_extractor)"
   ]
  },
  {
   "cell_type": "markdown",
   "id": "5221c767",
   "metadata": {},
   "source": [
    "## 4. Visualize Image Types by Prefix"
   ]
  },
  {
   "cell_type": "code",
   "execution_count": null,
   "id": "eaa11cad",
   "metadata": {},
   "outputs": [],
   "source": [
    "image_types = sar_metadata_analyzer.count_image_types()\n",
    "sar_metadata_analyzer.plot_image_type_counts(image_types)"
   ]
  },
  {
   "cell_type": "markdown",
   "id": "2f8c63bb",
   "metadata": {},
   "source": [
    "## 5. Image Count by Radar Mode"
   ]
  },
  {
   "cell_type": "code",
   "execution_count": null,
   "id": "de1e1c1d",
   "metadata": {},
   "outputs": [],
   "source": [
    "sar_metadata_analyzer.plot_image_count_by_mode(metadata)"
   ]
  },
  {
   "cell_type": "markdown",
   "id": "924d603c",
   "metadata": {},
   "source": [
    "## 6. Incidence Angle Distribution by Mode"
   ]
  },
  {
   "cell_type": "code",
   "execution_count": null,
   "id": "dbff105a",
   "metadata": {},
   "outputs": [],
   "source": [
    "modes = list(set(m.get('ModeType', 'Unknown') for m in metadata.values()))\n",
    "for mode in modes:\n",
    "    sar_metadata_analyzer.plot_incidence_angle_distributions(metadata, mode)"
   ]
  },
  {
   "cell_type": "markdown",
   "id": "a1392a57",
   "metadata": {},
   "source": [
    "## 7. Metadata Attribute Distributions"
   ]
  },
  {
   "cell_type": "code",
   "execution_count": null,
   "id": "6c6a9ded",
   "metadata": {},
   "outputs": [],
   "source": [
    "sar_metadata_analyzer.plot_metadata_distribution(metadata, \"ImageSize_MP\", \"Image Size (MP)\")\n",
    "sar_metadata_analyzer.plot_metadata_distribution(metadata, \"AspectRatio\", \"Aspect Ratio\")"
   ]
  },
  {
   "cell_type": "markdown",
   "id": "8a999afb",
   "metadata": {},
   "source": [
    "## 8. Geospatial AOI Filtering and Plot"
   ]
  },
  {
   "cell_type": "code",
   "execution_count": null,
   "id": "85e1db48",
   "metadata": {},
   "outputs": [],
   "source": [
    "lat_min = float(input(\"Enter minimum latitude: \"))\n",
    "lat_max = float(input(\"Enter maximum latitude: \"))\n",
    "lon_min = float(input(\"Enter minimum longitude: \"))\n",
    "lon_max = float(input(\"Enter maximum longitude: \"))\n",
    "\n",
    "sar_metadata_analyzer.plot_geospatial_data(metadata, lat_min, lat_max, lon_min, lon_max)"
   ]
  },
  {
   "cell_type": "markdown",
   "id": "ea29783b",
   "metadata": {},
   "source": [
    "---\n",
    "_This notebook assumes `A1.py` and `A2.py` are available in the same directory._"
   ]
  }
 ],
 "metadata": {},
 "nbformat": 4,
 "nbformat_minor": 5
}
