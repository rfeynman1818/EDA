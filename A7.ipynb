{
 "cells": [
  {
   "cell_type": "markdown",
   "id": "f88bff9b",
   "metadata": {},
   "source": [
    "# 🛰️ SICD Metadata EDA Notebook - Full Functionality Walkthrough"
   ]
  },
  {
   "cell_type": "markdown",
   "id": "37883b22",
   "metadata": {},
   "source": [
    "This notebook demonstrates the full functionality of the SICD metadata parser and analyzer using the `EnhancedSARMetadataExtractor` and `SARMetadataAnalyzer` classes.\n",
    "\n",
    "It covers:\n",
    "1. Metadata parsing from SICD XML files\n",
    "2. Data cleaning and augmentation\n",
    "3. Metadata structure conversion (dictionary → numpy arrays)\n",
    "4. Summary statistics and geospatial extent calculation\n",
    "5. Visualizations of:\n",
    "   - Radar modes\n",
    "   - Incidence angles\n",
    "   - Image dimensions\n",
    "   - AOI-based filtering\n",
    "\n",
    "> Ensure `A1.py` and `A2.py` are present in the same directory as this notebook.\n"
   ]
  },
  {
   "cell_type": "markdown",
   "id": "4092c6b7",
   "metadata": {},
   "source": [
    "## 1. Load and Parse SICD Metadata"
   ]
  },
  {
   "cell_type": "code",
   "execution_count": null,
   "id": "acacc71f",
   "metadata": {},
   "outputs": [],
   "source": [
    "from A2 import EnhancedSARMetadataExtractor\n",
    "\n",
    "directory_path = input(\"Enter path to directory with SICD XML files: \")\n",
    "metadata_extractor = EnhancedSARMetadataExtractor(directory_path)\n",
    "metadata = metadata_extractor.parse_sicd_metadata()\n",
    "\n",
    "print(f\"✅ Parsed {len(metadata)} metadata entries from SICD XML files\")"
   ]
  },
  {
   "cell_type": "markdown",
   "id": "95ee0746",
   "metadata": {},
   "source": [
    "## 2. Export Metadata to CSV"
   ]
  },
  {
   "cell_type": "code",
   "execution_count": null,
   "id": "3dcad703",
   "metadata": {},
   "outputs": [],
   "source": [
    "metadata_extractor.save_metadata_csv(\"exported_metadata.csv\")\n",
    "print(\"📁 Metadata exported to 'exported_metadata.csv'\")"
   ]
  },
  {
   "cell_type": "markdown",
   "id": "7f464585",
   "metadata": {},
   "source": [
    "## 3. Preview Sample Metadata Dictionary"
   ]
  },
  {
   "cell_type": "code",
   "execution_count": null,
   "id": "71f8d22e",
   "metadata": {},
   "outputs": [],
   "source": [
    "# Show one metadata example\n",
    "first_key = list(metadata.keys())[0]\n",
    "metadata[first_key]"
   ]
  },
  {
   "cell_type": "markdown",
   "id": "ab4b55c7",
   "metadata": {},
   "source": [
    "## 4. Summary Statistics"
   ]
  },
  {
   "cell_type": "code",
   "execution_count": null,
   "id": "00acd7e6",
   "metadata": {},
   "outputs": [],
   "source": [
    "summary = metadata_extractor.get_summary_statistics()\n",
    "\n",
    "import yaml\n",
    "print(yaml.dump(summary, default_flow_style=False))"
   ]
  },
  {
   "cell_type": "markdown",
   "id": "3d944c8c",
   "metadata": {},
   "source": [
    "## 5. Convert Metadata to Numpy Arrays"
   ]
  },
  {
   "cell_type": "code",
   "execution_count": null,
   "id": "82116013",
   "metadata": {},
   "outputs": [],
   "source": [
    "metadata_array, column_names = metadata_extractor.get_numeric_data()\n",
    "print(\"Shape:\", metadata_array.shape)\n",
    "print(\"Columns:\", column_names)"
   ]
  },
  {
   "cell_type": "markdown",
   "id": "918f9118",
   "metadata": {},
   "source": [
    "## 6. Initialize SARMetadataAnalyzer"
   ]
  },
  {
   "cell_type": "code",
   "execution_count": null,
   "id": "30d607b5",
   "metadata": {},
   "outputs": [],
   "source": [
    "from A1 import SARMetadataAnalyzer\n",
    "sar_metadata_analyzer = SARMetadataAnalyzer(directory_path, metadata_extractor)"
   ]
  },
  {
   "cell_type": "markdown",
   "id": "416425ed",
   "metadata": {},
   "source": [
    "## 7. Visualize Image Type Counts"
   ]
  },
  {
   "cell_type": "code",
   "execution_count": null,
   "id": "ac6407ea",
   "metadata": {},
   "outputs": [],
   "source": [
    "image_types = sar_metadata_analyzer.count_image_types()\n",
    "sar_metadata_analyzer.plot_image_type_counts(image_types)"
   ]
  },
  {
   "cell_type": "markdown",
   "id": "e4ffa7ee",
   "metadata": {},
   "source": [
    "## 8. Image Count by Radar Mode"
   ]
  },
  {
   "cell_type": "code",
   "execution_count": null,
   "id": "d6aa01af",
   "metadata": {},
   "outputs": [],
   "source": [
    "sar_metadata_analyzer.plot_image_count_by_mode(metadata)"
   ]
  },
  {
   "cell_type": "markdown",
   "id": "ec7101d0",
   "metadata": {},
   "source": [
    "## 9. Incidence Angle Distribution by Radar Mode"
   ]
  },
  {
   "cell_type": "code",
   "execution_count": null,
   "id": "5d125d39",
   "metadata": {},
   "outputs": [],
   "source": [
    "modes = list(set(m.get(\"ModeType\", \"Unknown\") for m in metadata.values()))\n",
    "for mode in modes:\n",
    "    sar_metadata_analyzer.plot_incidence_angle_distributions(metadata, mode)"
   ]
  },
  {
   "cell_type": "markdown",
   "id": "805f24e5",
   "metadata": {},
   "source": [
    "## 10. Plot Arbitrary Numeric Metadata Attribute"
   ]
  },
  {
   "cell_type": "code",
   "execution_count": null,
   "id": "624924e4",
   "metadata": {},
   "outputs": [],
   "source": [
    "sar_metadata_analyzer.plot_metadata_distribution(metadata, \"AspectRatio\", \"Aspect Ratio Distribution\")\n",
    "sar_metadata_analyzer.plot_metadata_distribution(metadata, \"ImageSize_MP\", \"Image Size in Megapixels\")"
   ]
  },
  {
   "cell_type": "markdown",
   "id": "d57b257e",
   "metadata": {},
   "source": [
    "## 11. Geospatial AOI Visualization"
   ]
  },
  {
   "cell_type": "code",
   "execution_count": null,
   "id": "eb03456d",
   "metadata": {},
   "outputs": [],
   "source": [
    "lat_min = float(input(\"Enter minimum latitude: \"))\n",
    "lat_max = float(input(\"Enter maximum latitude: \"))\n",
    "lon_min = float(input(\"Enter minimum longitude: \"))\n",
    "lon_max = float(input(\"Enter maximum longitude: \"))\n",
    "\n",
    "sar_metadata_analyzer.plot_geospatial_data(metadata, lat_min, lat_max, lon_min, lon_max)"
   ]
  },
  {
   "cell_type": "markdown",
   "id": "be75a836",
   "metadata": {},
   "source": [
    "## ✅ Complete"
   ]
  },
  {
   "cell_type": "markdown",
   "id": "1926f5dc",
   "metadata": {},
   "source": [
    "You’ve now explored all the functionality implemented in:\n",
    "\n",
    "- `A1.py` – SARMetadataAnalyzer: plotting & analysis\n",
    "- `A2.py` – EnhancedSARMetadataExtractor: parsing, extraction, statistics\n",
    "\n",
    "This notebook is ready for presentation or integration into SAR analysis pipelines.\n"
   ]
  }
 ],
 "metadata": {},
 "nbformat": 4,
 "nbformat_minor": 5
}
